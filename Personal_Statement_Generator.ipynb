{
  "cells": [
    {
      "cell_type": "markdown",
      "metadata": {
        "id": "view-in-github",
        "colab_type": "text"
      },
      "source": [
        "<a href=\"https://colab.research.google.com/github/gilbert-umuzi/personal-statement-generator/blob/main/Personal_Statement_Generator.ipynb\" target=\"_parent\"><img src=\"https://colab.research.google.com/assets/colab-badge.svg\" alt=\"Open In Colab\"/></a>"
      ]
    },
    {
      "cell_type": "code",
      "execution_count": null,
      "metadata": {
        "colab": {
          "base_uri": "https://localhost:8080/"
        },
        "id": "MIUFnrwaZkDU",
        "outputId": "a6906cfd-c239-4b85-8819-e4b57b89ae56"
      },
      "outputs": [
        {
          "output_type": "stream",
          "name": "stdout",
          "text": [
            "I like work because:\n",
            "a: It makes me feel competent \n",
            "b: It gives me a community\n",
            "c: It makes me feel empowered\n",
            "Please choose an option (a, b, c): c\n",
            "I make money because:\n",
            "a: I want to give my family something I never had\n",
            "b: I want to make sure we have stability \n",
            "c: I want to eventually have a luxurious lifestyle\n",
            "Please choose an option (a, b, c): c\n",
            "Your personal statement is: You see your work as a powerful tool for empowerment, enabling you to shape your own destiny. Your career imbues you with a sense of control over your life, fueling your drive and purpose. You harbor a longing for the finer things in life, hinting at an unfulfilled desire for luxury and comfort. Despite your humble circumstances, you dream of experiencing a life enhanced by affluence and leisure.\n"
          ]
        }
      ],
      "source": [
        "''' generate a personal statement based on user multiple choice inputs\n",
        "\n",
        "inputs: user answers to multiple choice questions\n",
        "outputs: user personal statement\n",
        "\n",
        "'''\n",
        "\n",
        "# Function to ask a multiple choice question and validate the answer\n",
        "def input_question(question, choices):\n",
        "    print(question)\n",
        "    display_choices = {key: value[\"display\"] for key, value in choices.items()}\n",
        "    for key, value in display_choices.items():\n",
        "        print(f'{key}: {value}')\n",
        "    while True:\n",
        "        answer = input(\"Please choose an option (\" + \", \".join(display_choices.keys()) + \"): \")\n",
        "        if answer in choices:\n",
        "            return choices[answer][\"statement\"]\n",
        "        else:\n",
        "            print(\"Invalid option, please try again.\")\n",
        "\n",
        "# Function to create a personal statement based on a list of questions and answers\n",
        "def create_personal_statement(questions_and_answers):\n",
        "    statement_parts = [] # List to store the parts of the statement\n",
        "\n",
        "    # Iterate through the list of questions and answers\n",
        "    for qa in questions_and_answers:\n",
        "        question, answers = qa[\"question\"], qa[\"answers\"]\n",
        "        input_answer = input_question(question, answers)\n",
        "        statement_parts.append(input_answer)\n",
        "\n",
        "    return \" \".join(statement_parts) # Concatenate the parts to create the final statement\n",
        "\n",
        "# List of questions, possible answers displayed for the user to select, and statements used to generate the personal statement\n",
        "questions_and_answers = [\n",
        "    {\n",
        "        \"question\": \"I like work because:\",\n",
        "        \"answers\": {\n",
        "            'a': {'display': 'It makes me feel competent ', 'statement': 'You draw a sense of self-assuredness from your work. Your profession serves not just as a means of income but as a crucial source of confidence, enabling you to showcase your capabilities and commitment.'},\n",
        "            'b': {'display': 'It gives me a community', 'statement': 'You thrive on the camaraderie that a work environment offers. For you, your workplace acts as a second family, providing a community where you can connect, collaborate, and evolve with others who share similar objectives and values.'},\n",
        "            'c': {'display': 'It makes me feel empowered', 'statement': 'You see your work as a powerful tool for empowerment, enabling you to shape your own destiny. Your career imbues you with a sense of control over your life, fueling your drive and purpose.'}\n",
        "        }\n",
        "    },\n",
        "    {\n",
        "        \"question\": \"I make money because:\",\n",
        "        \"answers\": {\n",
        "            'a': {'display': 'I want to give my family something I never had', 'statement': 'The aspiration to provide a better life for your children is a key motivator for your financial ambitions. You long to give them the opportunities and comforts that may have been absent from your own upbringing, which ignites a profound drive within you.'},\n",
        "            'b': {'display': 'I want to make sure we have stability ', 'statement': 'You attach high importance to financial stability, seeing money as a symbol of security. Your goal is not just to earn but to create a robust financial buffer that can protect you and your loved ones from unexpected economic turbulence.'},\n",
        "            'c': {'display': 'I want to eventually have a luxurious lifestyle', 'statement':'You harbor a longing for the finer things in life, hinting at an unfulfilled desire for luxury and comfort. Despite your humble circumstances, you dream of experiencing a life enhanced by affluence and leisure.'}\n",
        "        }\n",
        "    },\n",
        "\n",
        "\n",
        "\n",
        "    # add more questions here\n",
        "]\n",
        "\n",
        "# Generate the personal statement and print it\n",
        "statement = create_personal_statement(questions_and_answers)\n",
        "print(\"Your personal statement is:\", statement)\n"
      ]
    },
    {
      "cell_type": "code",
      "execution_count": null,
      "metadata": {
        "id": "43tSVYkmad9D"
      },
      "outputs": [],
      "source": []
    }
  ],
  "metadata": {
    "colab": {
      "provenance": [],
      "include_colab_link": true
    },
    "kernelspec": {
      "display_name": "Python 3",
      "name": "python3"
    },
    "language_info": {
      "name": "python"
    }
  },
  "nbformat": 4,
  "nbformat_minor": 0
}